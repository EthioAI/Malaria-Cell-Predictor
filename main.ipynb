{
 "cells": [
  {
   "cell_type": "code",
   "execution_count": 1,
   "metadata": {},
   "outputs": [],
   "source": [
    "import os\n",
    "import numpy as np\n",
    "import matplotlib as mpl\n",
    "import matplotlib.pyplot as plt\n",
    "import pandas as pd\n",
    "import seaborn as sns\n",
    "import cv2\n",
    "import importlib\n",
    "import attrs\n",
    "\n",
    "from sklearn.model_selection import train_test_split\n",
    "from sklearn.metrics import confusion_matrix\n",
    "from sklearn.model_selection import cross_val_score\n",
    "from sklearn.pipeline import Pipeline"
   ]
  },
  {
   "cell_type": "code",
   "execution_count": 2,
   "metadata": {},
   "outputs": [],
   "source": [
    "%matplotlib inline"
   ]
  },
  {
   "cell_type": "code",
   "execution_count": 3,
   "metadata": {},
   "outputs": [],
   "source": [
    "X, y = attrs.dataset_loader()"
   ]
  },
  {
   "cell_type": "code",
   "execution_count": 4,
   "metadata": {},
   "outputs": [
    {
     "data": {
      "text/plain": [
       "(27558, 50, 50, 3)"
      ]
     },
     "execution_count": 4,
     "metadata": {},
     "output_type": "execute_result"
    }
   ],
   "source": [
    "X.shape"
   ]
  },
  {
   "cell_type": "code",
   "execution_count": 5,
   "metadata": {},
   "outputs": [
    {
     "data": {
      "text/plain": [
       "Text(0.5, 1.0, 'Parasitized')"
      ]
     },
     "execution_count": 5,
     "metadata": {},
     "output_type": "execute_result"
    },
    {
     "data": {
      "image/png": "[encoded data removed]",
      "text/plain": [
       "<Figure size 432x288 with 1 Axes>"
      ]
     },
     "metadata": {
      "needs_background": "light"
     },
     "output_type": "display_data"
    }
   ],
   "source": [
    "plt.imshow(X[y == 1][0])\n",
    "plt.axis(\"off\")\n",
    "plt.title(\"Parasitized\")"
   ]
  },
  {
   "cell_type": "code",
   "execution_count": 6,
   "metadata": {},
   "outputs": [
    {
     "data": {
      "text/plain": [
       "Text(0.5, 1.0, 'Not Parasitized')"
      ]
     },
     "execution_count": 6,
     "metadata": {},
     "output_type": "execute_result"
    },
    {
     "data": {
      "image/png": "[encoded data removed]",
      "text/plain": [
       "<Figure size 432x288 with 1 Axes>"
      ]
     },
     "metadata": {
      "needs_background": "light"
     },
     "output_type": "display_data"
    }
   ],
   "source": [
    "plt.imshow(X[y == 0][0])\n",
    "plt.axis(\"off\")\n",
    "plt.title(\"Not Parasitized\")"
   ]
  },
  {
   "cell_type": "code",
   "execution_count": 7,
   "metadata": {},
   "outputs": [
    {
     "name": "stderr",
     "output_type": "stream",
     "text": [
      "e:\\Program files\\Anaconda3\\lib\\site-packages\\seaborn\\_decorators.py:36: FutureWarning: Pass the following variable as a keyword arg: x. From version 0.12, the only valid positional argument will be `data`, and passing other arguments without an explicit keyword will result in an error or misinterpretation.\n",
      "  warnings.warn(\n"
     ]
    },
    {
     "data": {
      "text/plain": [
       "<AxesSubplot:>"
      ]
     },
     "execution_count": 7,
     "metadata": {},
     "output_type": "execute_result"
    },
    {
     "data": {
      "image/png": "[encoded data removed]",
      "text/plain": [
       "<Figure size 720x576 with 1 Axes>"
      ]
     },
     "metadata": {
      "needs_background": "light"
     },
     "output_type": "display_data"
    }
   ],
   "source": [
    "unique, count = np.unique(y, return_counts=True)\n",
    "plt.figure(figsize=(10,8))\n",
    "sns.barplot(unique, y=count)"
   ]
  },
  {
   "cell_type": "code",
   "execution_count": 8,
   "metadata": {},
   "outputs": [
    {
     "name": "stdout",
     "output_type": "stream",
     "text": [
      "x_train shape:  (22046, 50, 50, 3)\n",
      "x_test shape:  (5512, 50, 50, 3)\n",
      "y_train shape:  (22046,)\n",
      "y_test shape:  (5512,)\n"
     ]
    }
   ],
   "source": [
    "X_train, X_test, y_train, y_test = train_test_split(X, y, test_size=0.2, random_state=42)\n",
    "print(\"x_train shape: \",X_train.shape)\n",
    "print(\"x_test shape: \",X_test.shape)\n",
    "print(\"y_train shape: \",y_train.shape)\n",
    "print(\"y_test shape: \",y_test.shape)"
   ]
  },
  {
   "cell_type": "markdown",
   "metadata": {},
   "source": [
    "### ML models"
   ]
  },
  {
   "cell_type": "code",
   "execution_count": null,
   "metadata": {},
   "outputs": [],
   "source": [
    "pipeline = Pipeline([\n",
    "    (\"ravel_array\", attrs.ArrayRavel())\n",
    "])\n",
    "X_train_prepared = pipeline.fit_transform(X_train)\n",
    "X_test_prepared = pipeline.fit_transform(X_test)"
   ]
  },
  {
   "cell_type": "code",
   "execution_count": null,
   "metadata": {},
   "outputs": [
    {
     "data": {
      "text/plain": [
       "RandomForestClassifier(max_leaf_nodes=24, n_estimators=500, n_jobs=-1,\n",
       "                       random_state=42)"
      ]
     },
     "execution_count": 13,
     "metadata": {},
     "output_type": "execute_result"
    }
   ],
   "source": [
    "# using random forest classifer is like using svm like this: svc_clf = SVC(C=1000, kernel=\"rbf\", gamma=0.1)\n",
    "# SVM takes a very long time to train and check for cross validation.\n",
    "from sklearn.ensemble import RandomForestClassifier\n",
    "\n",
    "rnd_clf = RandomForestClassifier(n_estimators=500, max_leaf_nodes=24, n_jobs=-1, random_state=42)\n",
    "rnd_clf.fit(X_train_prepared, y_train)"
   ]
  },
  {
   "cell_type": "code",
   "execution_count": null,
   "metadata": {},
   "outputs": [
    {
     "name": "stdout",
     "output_type": "stream",
     "text": [
      "Scores:  [0.72472784 0.72472784 0.718507   0.72706065 0.71772939 0.7192846\n",
      " 0.70917574 0.70995334 0.718507   0.7192846  0.73250389 0.718507\n",
      " 0.72939347 0.70451011 0.73172628]\n",
      "Mean:  0.7203732503888024\n",
      "Standard deviation:  0.007939190680000123\n"
     ]
    }
   ],
   "source": [
    "rnd_scores = attrs.cross_val_score(rnd_clf, X_train_prepared, y_train, n=15)\n",
    "attrs.display_cross_val_score(rnd_scores)"
   ]
  },
  {
   "cell_type": "markdown",
   "metadata": {},
   "source": [
    "- RandomForest is severly underfitting the dataset"
   ]
  },
  {
   "cell_type": "code",
   "execution_count": null,
   "metadata": {},
   "outputs": [
    {
     "data": {
      "text/plain": [
       "AdaBoostClassifier(base_estimator=DecisionTreeClassifier(max_leaf_nodes=8),\n",
       "                   learning_rate=0.5, n_estimators=500, random_state=42)"
      ]
     },
     "execution_count": 16,
     "metadata": {},
     "output_type": "execute_result"
    }
   ],
   "source": [
    "# let's try ada boosting\n",
    "from sklearn.tree import DecisionTreeClassifier\n",
    "from sklearn.ensemble import AdaBoostClassifier\n",
    "\n",
    "ada_clf = AdaBoostClassifier(DecisionTreeClassifier(max_leaf_nodes=8), n_estimators=500, algorithm=\"SAMME.R\", random_state=42, learning_rate=0.5)\n",
    "ada_clf.fit(X_train_prepared, y_train)"
   ]
  },
  {
   "cell_type": "code",
   "execution_count": null,
   "metadata": {},
   "outputs": [],
   "source": [
    "ada_scores = attrs.cross_val_score(ada_clf, X_train_prepared, y_train, n=15)\n",
    "attrs.display_cross_val_score(ada_scores)"
   ]
  },
  {
   "cell_type": "code",
   "execution_count": null,
   "metadata": {},
   "outputs": [
    {
     "data": {
      "text/plain": [
       "<module 'attrs' from 'd:\\\\Machine learning\\\\Projects\\\\Malaria Cell Predictor\\\\attrs.py'>"
      ]
     },
     "execution_count": 32,
     "metadata": {},
     "output_type": "execute_result"
    }
   ],
   "source": [
    "importlib.reload(attrs)"
   ]
  },
  {
   "cell_type": "code",
   "execution_count": null,
   "metadata": {},
   "outputs": [
    {
     "data": {
      "text/plain": [
       "Pipeline(steps=[('kmeans', KMeans(n_clusters=4)),\n",
       "                ('xgb',\n",
       "                 XGBClassifier(base_score=0.5, booster='gbtree', callbacks=None,\n",
       "                               colsample_bylevel=1, colsample_bynode=1,\n",
       "                               colsample_bytree=1, early_stopping_rounds=None,\n",
       "                               enable_categorical=False, eval_metric=None,\n",
       "                               gamma=0, gpu_id=-1, grow_policy='depthwise',\n",
       "                               importance_type=None, interaction_constraints='',\n",
       "                               learning_rate=0.300000012, max_bin=256,\n",
       "                               max_cat_to_onehot=4, max_delta_step=0,\n",
       "                               max_depth=6, max_leaves=0, min_child_weight=1,\n",
       "                               missing=nan, monotone_constraints='()',\n",
       "                               n_estimators=100, n_jobs=0, num_parallel_tree=1,\n",
       "                               predictor='auto', random_state=0, reg_alpha=0,\n",
       "                               reg_lambda=1, ...))])"
      ]
     },
     "execution_count": 76,
     "metadata": {},
     "output_type": "execute_result"
    }
   ],
   "source": [
    "import xgboost\n",
    "\n",
    "xgb_clf = xgboost.XGBClassifier()\n",
    "xgb_clf.fit(X_train_prepared, y_train)"
   ]
  },
  {
   "cell_type": "code",
   "execution_count": null,
   "metadata": {},
   "outputs": [
    {
     "name": "stdout",
     "output_type": "stream",
     "text": [
      "Scores:  [0.63685848 0.62674961 0.63763608 0.6407465  0.63374806 0.64463453\n",
      " 0.64774495 0.65163297 0.63530327 0.64852255 0.65007776 0.655521\n",
      " 0.64385692 0.64930016 0.63608087]\n",
      "Mean:  0.6425609123898394\n",
      "Standard deviation:  0.0077587504132170726\n"
     ]
    }
   ],
   "source": [
    "xgb_scores = attrs.cross_val_score(xgb_clf, X_train_prepared, y_train, n=15)\n",
    "attrs.display_cross_val_score(xgb_scores)"
   ]
  },
  {
   "cell_type": "markdown",
   "metadata": {},
   "source": [
    "### NN models"
   ]
  },
  {
   "cell_type": "code",
   "execution_count": 9,
   "metadata": {},
   "outputs": [],
   "source": [
    "import tensorflow as tf\n",
    "from tensorflow import keras"
   ]
  },
  {
   "cell_type": "code",
   "execution_count": 10,
   "metadata": {},
   "outputs": [],
   "source": [
    "root_logdir = os.path.join(os.curdir, \"logs\")\n",
    "\n",
    "for gpu in tf.config.list_physical_devices(\"GPU\"):\n",
    "    tf.config.experimental.set_memory_growth(gpu, True)\n",
    "\n",
    "def get_run_logdir(name=None):\n",
    "    import time\n",
    "    run_id = time.strftime(\"run_%Y_%m_%d-%H_%M_%S\") + f\"- {name}\"\n",
    "    return os.path.join(root_logdir, run_id)"
   ]
  },
  {
   "cell_type": "code",
   "execution_count": 11,
   "metadata": {},
   "outputs": [],
   "source": [
    "X_train_prepared, X_valid_prepared, y_train_prepared, y_valid_prepared = train_test_split(X_train, y_train, test_size=0.2, random_state=42)"
   ]
  },
  {
   "cell_type": "code",
   "execution_count": 12,
   "metadata": {},
   "outputs": [
    {
     "data": {
      "text/plain": [
       "(17636, 50, 50, 3)"
      ]
     },
     "execution_count": 12,
     "metadata": {},
     "output_type": "execute_result"
    }
   ],
   "source": [
    "X_train_prepared.shape"
   ]
  },
  {
   "cell_type": "markdown",
   "metadata": {},
   "source": [
    "### Model 1"
   ]
  },
  {
   "cell_type": "code",
   "execution_count": 13,
   "metadata": {},
   "outputs": [],
   "source": [
    "nn_model = keras.Sequential()\n",
    "nn_model.add(keras.layers.Conv2D(16,(3,3),activation='relu',input_shape=(50,50,3)))\n",
    "nn_model.add(keras.layers.MaxPool2D(2))\n",
    "nn_model.add(keras.layers.Dropout(0.2))\n",
    "\n",
    "nn_model.add(keras.layers.Conv2D(32,(3,3),activation='relu'))\n",
    "nn_model.add(keras.layers.MaxPool2D(2,2))\n",
    "nn_model.add(keras.layers.Dropout(0.3))\n",
    "\n",
    "nn_model.add(keras.layers.Conv2D(64,(3,3),activation='relu'))\n",
    "nn_model.add(keras.layers.MaxPool2D(2,2))\n",
    "nn_model.add(keras.layers.Dropout(0.3))\n",
    "\n",
    "nn_model.add(keras.layers.Flatten())\n",
    "nn_model.add(keras.layers.Dense(64,activation='relu'))\n",
    "nn_model.add(keras.layers.Dropout(0.5))\n",
    "\n",
    "nn_model.add(keras.layers.Dense(1,activation='sigmoid'))"
   ]
  },
  {
   "cell_type": "code",
   "execution_count": 14,
   "metadata": {},
   "outputs": [],
   "source": [
    "checkpoint_cb = keras.callbacks.ModelCheckpoint(\"models/nn_model_1.h5\", save_best_only=True)\n",
    "tensorboard_cb = keras.callbacks.TensorBoard(get_run_logdir(\"nn_model_1\"))\n",
    "\n",
    "nn_model.compile(loss=\"binary_crossentropy\", optimizer=\"adam\", metrics=[\"accuracy\"])"
   ]
  },
  {
   "cell_type": "code",
   "execution_count": 15,
   "metadata": {},
   "outputs": [
    {
     "name": "stdout",
     "output_type": "stream",
     "text": [
      "Epoch 1/30\n",
      "552/552 [==============================] - 10s 12ms/step - loss: 0.5164 - accuracy: 0.7418 - val_loss: 0.2115 - val_accuracy: 0.9177\n",
      "Epoch 2/30\n",
      "552/552 [==============================] - 5s 9ms/step - loss: 0.2370 - accuracy: 0.9126 - val_loss: 0.1845 - val_accuracy: 0.9342\n",
      "Epoch 3/30\n",
      "552/552 [==============================] - 5s 9ms/step - loss: 0.2153 - accuracy: 0.9254 - val_loss: 0.1760 - val_accuracy: 0.9454\n",
      "Epoch 4/30\n",
      "552/552 [==============================] - 5s 9ms/step - loss: 0.2014 - accuracy: 0.9310 - val_loss: 0.1718 - val_accuracy: 0.9463\n",
      "Epoch 5/30\n",
      "552/552 [==============================] - 5s 8ms/step - loss: 0.1975 - accuracy: 0.9358 - val_loss: 0.1976 - val_accuracy: 0.9354\n",
      "Epoch 6/30\n",
      "552/552 [==============================] - 5s 9ms/step - loss: 0.1946 - accuracy: 0.9364 - val_loss: 0.1669 - val_accuracy: 0.9449\n",
      "Epoch 7/30\n",
      "552/552 [==============================] - 5s 9ms/step - loss: 0.1817 - accuracy: 0.9414 - val_loss: 0.1615 - val_accuracy: 0.9483\n",
      "Epoch 8/30\n",
      "552/552 [==============================] - 5s 9ms/step - loss: 0.1754 - accuracy: 0.9422 - val_loss: 0.1752 - val_accuracy: 0.9379\n",
      "Epoch 9/30\n",
      "552/552 [==============================] - 5s 9ms/step - loss: 0.1667 - accuracy: 0.9451 - val_loss: 0.1535 - val_accuracy: 0.9483\n",
      "Epoch 10/30\n",
      "552/552 [==============================] - 5s 9ms/step - loss: 0.1662 - accuracy: 0.9464 - val_loss: 0.1507 - val_accuracy: 0.9497\n",
      "Epoch 11/30\n",
      "552/552 [==============================] - 5s 8ms/step - loss: 0.1635 - accuracy: 0.9473 - val_loss: 0.1542 - val_accuracy: 0.9499\n",
      "Epoch 12/30\n",
      "552/552 [==============================] - 5s 8ms/step - loss: 0.1585 - accuracy: 0.9484 - val_loss: 0.1565 - val_accuracy: 0.9512\n",
      "Epoch 13/30\n",
      "552/552 [==============================] - 5s 8ms/step - loss: 0.1556 - accuracy: 0.9475 - val_loss: 0.1528 - val_accuracy: 0.9512\n",
      "Epoch 14/30\n",
      "552/552 [==============================] - 5s 9ms/step - loss: 0.1544 - accuracy: 0.9497 - val_loss: 0.1446 - val_accuracy: 0.9515\n",
      "Epoch 15/30\n",
      "552/552 [==============================] - 5s 9ms/step - loss: 0.1503 - accuracy: 0.9498 - val_loss: 0.1413 - val_accuracy: 0.9526\n",
      "Epoch 16/30\n",
      "552/552 [==============================] - 5s 8ms/step - loss: 0.1469 - accuracy: 0.9511 - val_loss: 0.1393 - val_accuracy: 0.9524\n",
      "Epoch 17/30\n",
      "552/552 [==============================] - 5s 8ms/step - loss: 0.1470 - accuracy: 0.9508 - val_loss: 0.1413 - val_accuracy: 0.9549\n",
      "Epoch 18/30\n",
      "552/552 [==============================] - 5s 9ms/step - loss: 0.1505 - accuracy: 0.9502 - val_loss: 0.1308 - val_accuracy: 0.9551\n",
      "Epoch 19/30\n",
      "552/552 [==============================] - 5s 8ms/step - loss: 0.1415 - accuracy: 0.9521 - val_loss: 0.1435 - val_accuracy: 0.9526\n",
      "Epoch 20/30\n",
      "552/552 [==============================] - 5s 8ms/step - loss: 0.1423 - accuracy: 0.9538 - val_loss: 0.1462 - val_accuracy: 0.9533\n",
      "Epoch 21/30\n",
      "552/552 [==============================] - 5s 8ms/step - loss: 0.1386 - accuracy: 0.9537 - val_loss: 0.1484 - val_accuracy: 0.9503\n",
      "Epoch 22/30\n",
      "552/552 [==============================] - 5s 8ms/step - loss: 0.1380 - accuracy: 0.9549 - val_loss: 0.1369 - val_accuracy: 0.9542\n",
      "Epoch 23/30\n",
      "552/552 [==============================] - 5s 9ms/step - loss: 0.1356 - accuracy: 0.9532 - val_loss: 0.1369 - val_accuracy: 0.9544\n",
      "Epoch 24/30\n",
      "552/552 [==============================] - 5s 10ms/step - loss: 0.1405 - accuracy: 0.9536 - val_loss: 0.1319 - val_accuracy: 0.9553\n",
      "Epoch 25/30\n",
      "552/552 [==============================] - 6s 10ms/step - loss: 0.1331 - accuracy: 0.9557 - val_loss: 0.1336 - val_accuracy: 0.9551\n",
      "Epoch 26/30\n",
      "552/552 [==============================] - 5s 10ms/step - loss: 0.1375 - accuracy: 0.9549 - val_loss: 0.1399 - val_accuracy: 0.9528\n",
      "Epoch 27/30\n",
      "552/552 [==============================] - 5s 9ms/step - loss: 0.1306 - accuracy: 0.9560 - val_loss: 0.1465 - val_accuracy: 0.9524\n",
      "Epoch 28/30\n",
      "552/552 [==============================] - 5s 10ms/step - loss: 0.1325 - accuracy: 0.9549 - val_loss: 0.1302 - val_accuracy: 0.9558\n",
      "Epoch 29/30\n",
      "552/552 [==============================] - 5s 10ms/step - loss: 0.1332 - accuracy: 0.9551 - val_loss: 0.1393 - val_accuracy: 0.9551\n",
      "Epoch 30/30\n",
      "552/552 [==============================] - 5s 10ms/step - loss: 0.1273 - accuracy: 0.9570 - val_loss: 0.1324 - val_accuracy: 0.9542\n"
     ]
    }
   ],
   "source": [
    "history = nn_model.fit(X_train_prepared, y_train_prepared, \n",
    "                        epochs=30,\n",
    "                        validation_data=(X_valid_prepared, y_valid_prepared),\n",
    "                        callbacks=[checkpoint_cb, tensorboard_cb])"
   ]
  },
  {
   "cell_type": "code",
   "execution_count": 16,
   "metadata": {},
   "outputs": [
    {
     "data": {
      "image/png": "[encoded data removed]",
      "text/plain": [
       "<Figure size 1080x792 with 1 Axes>"
      ]
     },
     "metadata": {
      "needs_background": "light"
     },
     "output_type": "display_data"
    }
   ],
   "source": [
    "import pandas as pd\n",
    "import matplotlib.pyplot as plt\n",
    "\n",
    "pd.DataFrame(history.history).plot(figsize=(15, 11))\n",
    "plt.grid(True)\n",
    "plt.gca().set_ylim(0, 1)\n",
    "plt.show()"
   ]
  },
  {
   "cell_type": "code",
   "execution_count": 17,
   "metadata": {},
   "outputs": [
    {
     "name": "stdout",
     "output_type": "stream",
     "text": [
      "173/173 [==============================] - 1s 5ms/step - loss: 0.1449 - accuracy: 0.9550\n"
     ]
    },
    {
     "data": {
      "text/plain": [
       "[0.14489613473415375, 0.9550072550773621]"
      ]
     },
     "execution_count": 17,
     "metadata": {},
     "output_type": "execute_result"
    }
   ],
   "source": [
    "nn_model.evaluate(X_test, y_test)"
   ]
  },
  {
   "cell_type": "markdown",
   "metadata": {},
   "source": [
    "### Model 2"
   ]
  },
  {
   "cell_type": "code",
   "execution_count": 18,
   "metadata": {},
   "outputs": [],
   "source": [
    "nn_model_2 = keras.Sequential()\n",
    "nn_model_2.add(keras.layers.Conv2D(16, 7, activation='relu', padding=\"same\", input_shape=(50,50,3)))\n",
    "nn_model_2.add(keras.layers.MaxPool2D(2))\n",
    "\n",
    "nn_model_2.add(keras.layers.Conv2D(32, 3, activation='relu', padding=\"same\"))\n",
    "nn_model_2.add(keras.layers.Conv2D(32, 3, activation='relu', padding=\"same\"))\n",
    "nn_model_2.add(keras.layers.MaxPool2D(2))\n",
    "\n",
    "nn_model_2.add(keras.layers.Conv2D(64, 3, activation='relu', padding=\"same\"))\n",
    "nn_model_2.add(keras.layers.Conv2D(64, 3, activation='relu', padding=\"same\"))\n",
    "nn_model_2.add(keras.layers.MaxPool2D(2))\n",
    "\n",
    "nn_model_2.add(keras.layers.Flatten())\n",
    "nn_model_2.add(keras.layers.Dense(64, activation='relu'))\n",
    "nn_model_2.add(keras.layers.Dropout(0.5))\n",
    "\n",
    "nn_model_2.add(keras.layers.Dense(1, activation='sigmoid'))"
   ]
  },
  {
   "cell_type": "code",
   "execution_count": 19,
   "metadata": {},
   "outputs": [],
   "source": [
    "checkpoint_cb = keras.callbacks.ModelCheckpoint(\"models/nn_model_2.h5\", save_best_only=True)\n",
    "tensorboard_cb = keras.callbacks.TensorBoard(get_run_logdir(\"nn_model_2\"))\n",
    "\n",
    "nn_model_2.compile(loss=\"binary_crossentropy\", optimizer=\"adam\", metrics=[\"accuracy\"])"
   ]
  },
  {
   "cell_type": "code",
   "execution_count": 20,
   "metadata": {},
   "outputs": [
    {
     "name": "stdout",
     "output_type": "stream",
     "text": [
      "Epoch 1/50\n",
      "552/552 [==============================] - 10s 17ms/step - loss: 0.6921 - accuracy: 0.5168 - val_loss: 0.6775 - val_accuracy: 0.6052\n",
      "Epoch 2/50\n",
      "552/552 [==============================] - 6s 11ms/step - loss: 0.6812 - accuracy: 0.5667 - val_loss: 0.6524 - val_accuracy: 0.6122\n",
      "Epoch 3/50\n",
      "552/552 [==============================] - 6s 11ms/step - loss: 0.6582 - accuracy: 0.6149 - val_loss: 0.5765 - val_accuracy: 0.7222\n",
      "Epoch 4/50\n",
      "552/552 [==============================] - 6s 10ms/step - loss: 0.2800 - accuracy: 0.8946 - val_loss: 0.1711 - val_accuracy: 0.9426\n",
      "Epoch 5/50\n",
      "552/552 [==============================] - 6s 11ms/step - loss: 0.1647 - accuracy: 0.9457 - val_loss: 0.1517 - val_accuracy: 0.9531\n",
      "Epoch 6/50\n",
      "552/552 [==============================] - 6s 11ms/step - loss: 0.1501 - accuracy: 0.9519 - val_loss: 0.1323 - val_accuracy: 0.9574\n",
      "Epoch 7/50\n",
      "552/552 [==============================] - 6s 11ms/step - loss: 0.1348 - accuracy: 0.9568 - val_loss: 0.1255 - val_accuracy: 0.9608\n",
      "Epoch 8/50\n",
      "552/552 [==============================] - 6s 10ms/step - loss: 0.1265 - accuracy: 0.9593 - val_loss: 0.1340 - val_accuracy: 0.9546\n",
      "Epoch 9/50\n",
      "552/552 [==============================] - 6s 10ms/step - loss: 0.1210 - accuracy: 0.9602 - val_loss: 0.1225 - val_accuracy: 0.9583\n",
      "Epoch 10/50\n",
      "552/552 [==============================] - 6s 10ms/step - loss: 0.1169 - accuracy: 0.9613 - val_loss: 0.1208 - val_accuracy: 0.9628\n",
      "Epoch 11/50\n",
      "552/552 [==============================] - 5s 10ms/step - loss: 0.1088 - accuracy: 0.9633 - val_loss: 0.1287 - val_accuracy: 0.9596\n",
      "Epoch 12/50\n",
      "552/552 [==============================] - 6s 11ms/step - loss: 0.1056 - accuracy: 0.9644 - val_loss: 0.1157 - val_accuracy: 0.9628\n",
      "Epoch 13/50\n",
      "552/552 [==============================] - 6s 10ms/step - loss: 0.1009 - accuracy: 0.9660 - val_loss: 0.1234 - val_accuracy: 0.9580\n",
      "Epoch 14/50\n",
      "552/552 [==============================] - 6s 11ms/step - loss: 0.0952 - accuracy: 0.9672 - val_loss: 0.1221 - val_accuracy: 0.9596\n",
      "Epoch 15/50\n",
      "552/552 [==============================] - 7s 12ms/step - loss: 0.0898 - accuracy: 0.9683 - val_loss: 0.1279 - val_accuracy: 0.9621\n",
      "Epoch 16/50\n",
      "552/552 [==============================] - 5s 10ms/step - loss: 0.0876 - accuracy: 0.9692 - val_loss: 0.1328 - val_accuracy: 0.9608\n",
      "Epoch 17/50\n",
      "552/552 [==============================] - 6s 10ms/step - loss: 0.0825 - accuracy: 0.9716 - val_loss: 0.1361 - val_accuracy: 0.9628\n",
      "Epoch 18/50\n",
      "552/552 [==============================] - 6s 11ms/step - loss: 0.0739 - accuracy: 0.9734 - val_loss: 0.1456 - val_accuracy: 0.9594\n",
      "Epoch 19/50\n",
      "552/552 [==============================] - 6s 12ms/step - loss: 0.0773 - accuracy: 0.9739 - val_loss: 0.1568 - val_accuracy: 0.9605\n",
      "Epoch 20/50\n",
      "552/552 [==============================] - 6s 11ms/step - loss: 0.0643 - accuracy: 0.9778 - val_loss: 0.1706 - val_accuracy: 0.9567\n",
      "Epoch 21/50\n",
      "552/552 [==============================] - 6s 10ms/step - loss: 0.0628 - accuracy: 0.9774 - val_loss: 0.1703 - val_accuracy: 0.9583\n",
      "Epoch 22/50\n",
      "552/552 [==============================] - 6s 11ms/step - loss: 0.0577 - accuracy: 0.9791 - val_loss: 0.1622 - val_accuracy: 0.9585\n",
      "Epoch 23/50\n",
      "552/552 [==============================] - 7s 12ms/step - loss: 0.0565 - accuracy: 0.9800 - val_loss: 0.1857 - val_accuracy: 0.9590\n",
      "Epoch 24/50\n",
      "552/552 [==============================] - 8s 14ms/step - loss: 0.0522 - accuracy: 0.9813 - val_loss: 0.1623 - val_accuracy: 0.9619\n",
      "Epoch 25/50\n",
      "552/552 [==============================] - 6s 11ms/step - loss: 0.0426 - accuracy: 0.9843 - val_loss: 0.1704 - val_accuracy: 0.9603\n",
      "Epoch 26/50\n",
      "552/552 [==============================] - 6s 11ms/step - loss: 0.0438 - accuracy: 0.9849 - val_loss: 0.2209 - val_accuracy: 0.9576\n",
      "Epoch 27/50\n",
      "552/552 [==============================] - 6s 12ms/step - loss: 0.0399 - accuracy: 0.9855 - val_loss: 0.2787 - val_accuracy: 0.9549\n",
      "Epoch 28/50\n",
      "552/552 [==============================] - 6s 10ms/step - loss: 0.0529 - accuracy: 0.9818 - val_loss: 0.2030 - val_accuracy: 0.9594\n",
      "Epoch 29/50\n",
      "552/552 [==============================] - 6s 11ms/step - loss: 0.0355 - accuracy: 0.9871 - val_loss: 0.2060 - val_accuracy: 0.9583\n",
      "Epoch 30/50\n",
      "552/552 [==============================] - 6s 11ms/step - loss: 0.0392 - accuracy: 0.9870 - val_loss: 0.2789 - val_accuracy: 0.9610\n",
      "Epoch 31/50\n",
      "552/552 [==============================] - 6s 11ms/step - loss: 0.0353 - accuracy: 0.9867 - val_loss: 0.2722 - val_accuracy: 0.9578\n",
      "Epoch 32/50\n",
      "552/552 [==============================] - 6s 10ms/step - loss: 0.0347 - accuracy: 0.9883 - val_loss: 0.2499 - val_accuracy: 0.9590\n",
      "Epoch 33/50\n",
      "552/552 [==============================] - 6s 10ms/step - loss: 0.0328 - accuracy: 0.9878 - val_loss: 0.2468 - val_accuracy: 0.9576\n",
      "Epoch 34/50\n",
      "552/552 [==============================] - 6s 10ms/step - loss: 0.0315 - accuracy: 0.9895 - val_loss: 0.2912 - val_accuracy: 0.9594\n",
      "Epoch 35/50\n",
      "552/552 [==============================] - 5s 10ms/step - loss: 0.0305 - accuracy: 0.9902 - val_loss: 0.2250 - val_accuracy: 0.9551\n",
      "Epoch 36/50\n",
      "552/552 [==============================] - 6s 10ms/step - loss: 0.0368 - accuracy: 0.9886 - val_loss: 0.2432 - val_accuracy: 0.9596\n",
      "Epoch 37/50\n",
      "552/552 [==============================] - 6s 10ms/step - loss: 0.0285 - accuracy: 0.9905 - val_loss: 0.3217 - val_accuracy: 0.9596\n",
      "Epoch 38/50\n",
      "552/552 [==============================] - 6s 11ms/step - loss: 0.0212 - accuracy: 0.9924 - val_loss: 0.3459 - val_accuracy: 0.9592\n",
      "Epoch 39/50\n",
      "552/552 [==============================] - 6s 11ms/step - loss: 0.0302 - accuracy: 0.9904 - val_loss: 0.2872 - val_accuracy: 0.9610\n",
      "Epoch 40/50\n",
      "552/552 [==============================] - 6s 10ms/step - loss: 0.0316 - accuracy: 0.9892 - val_loss: 0.2961 - val_accuracy: 0.9571\n",
      "Epoch 41/50\n",
      "552/552 [==============================] - 6s 10ms/step - loss: 0.0187 - accuracy: 0.9932 - val_loss: 0.3037 - val_accuracy: 0.9540\n",
      "Epoch 42/50\n",
      "552/552 [==============================] - 6s 10ms/step - loss: 0.0266 - accuracy: 0.9908 - val_loss: 0.3009 - val_accuracy: 0.9531\n",
      "Epoch 43/50\n",
      "552/552 [==============================] - 5s 10ms/step - loss: 0.0272 - accuracy: 0.9906 - val_loss: 0.2726 - val_accuracy: 0.9571\n",
      "Epoch 44/50\n",
      "552/552 [==============================] - 6s 10ms/step - loss: 0.0295 - accuracy: 0.9895 - val_loss: 0.3781 - val_accuracy: 0.9565\n",
      "Epoch 45/50\n",
      "552/552 [==============================] - 6s 11ms/step - loss: 0.0205 - accuracy: 0.9926 - val_loss: 0.3488 - val_accuracy: 0.9612\n",
      "Epoch 46/50\n",
      "552/552 [==============================] - 5s 10ms/step - loss: 0.0219 - accuracy: 0.9930 - val_loss: 0.3634 - val_accuracy: 0.9608\n",
      "Epoch 47/50\n",
      "552/552 [==============================] - 5s 10ms/step - loss: 0.0275 - accuracy: 0.9915 - val_loss: 0.3912 - val_accuracy: 0.9560\n",
      "Epoch 48/50\n",
      "552/552 [==============================] - 5s 10ms/step - loss: 0.0260 - accuracy: 0.9915 - val_loss: 0.3966 - val_accuracy: 0.9576\n",
      "Epoch 49/50\n",
      "552/552 [==============================] - 5s 10ms/step - loss: 0.0181 - accuracy: 0.9934 - val_loss: 0.4113 - val_accuracy: 0.9590\n",
      "Epoch 50/50\n",
      "552/552 [==============================] - 5s 10ms/step - loss: 0.0170 - accuracy: 0.9943 - val_loss: 0.4143 - val_accuracy: 0.9590\n"
     ]
    }
   ],
   "source": [
    "history = nn_model_2.fit(X_train_prepared, y_train_prepared, \n",
    "                        epochs=50,\n",
    "                        validation_data=(X_valid_prepared, y_valid_prepared),\n",
    "                        callbacks=[checkpoint_cb, tensorboard_cb])"
   ]
  },
  {
   "cell_type": "code",
   "execution_count": 21,
   "metadata": {},
   "outputs": [
    {
     "data": {
      "image/png": "[encoded data removed]",
      "text/plain": [
       "<Figure size 1080x792 with 1 Axes>"
      ]
     },
     "metadata": {
      "needs_background": "light"
     },
     "output_type": "display_data"
    }
   ],
   "source": [
    "import pandas as pd\n",
    "import matplotlib.pyplot as plt\n",
    "\n",
    "pd.DataFrame(history.history).plot(figsize=(15, 11))\n",
    "plt.grid(True)\n",
    "plt.gca().set_ylim(0, 1)\n",
    "plt.show()"
   ]
  },
  {
   "cell_type": "code",
   "execution_count": 22,
   "metadata": {},
   "outputs": [
    {
     "name": "stdout",
     "output_type": "stream",
     "text": [
      "173/173 [==============================] - 1s 5ms/step - loss: 0.5145 - accuracy: 0.9534\n"
     ]
    },
    {
     "data": {
      "text/plain": [
       "[0.5144659280776978, 0.953374445438385]"
      ]
     },
     "execution_count": 22,
     "metadata": {},
     "output_type": "execute_result"
    }
   ],
   "source": [
    "nn_model_2.evaluate(X_test, y_test)"
   ]
  },
  {
   "cell_type": "markdown",
   "metadata": {},
   "source": [
    "### Check"
   ]
  },
  {
   "cell_type": "code",
   "execution_count": 11,
   "metadata": {},
   "outputs": [
    {
     "name": "stdout",
     "output_type": "stream",
     "text": [
      "689/689 [==============================] - 5s 4ms/step - loss: 0.1084 - accuracy: 0.9603\n",
      "173/173 [==============================] - 1s 4ms/step - loss: 0.1431 - accuracy: 0.9543\n"
     ]
    },
    {
     "data": {
      "text/plain": [
       "([0.1084483340382576, 0.9602649211883545],\n",
       " [0.14311763644218445, 0.9542815685272217])"
      ]
     },
     "execution_count": 11,
     "metadata": {},
     "output_type": "execute_result"
    }
   ],
   "source": [
    "nn_model_1 = keras.models.load_model(\"models/nn_model_1.h5\")\n",
    "nn_model_1.evaluate(X_train, y_train), nn_model_1.evaluate(X_test, y_test)"
   ]
  },
  {
   "cell_type": "code",
   "execution_count": 12,
   "metadata": {},
   "outputs": [
    {
     "name": "stdout",
     "output_type": "stream",
     "text": [
      "689/689 [==============================] - 4s 5ms/step - loss: 0.0916 - accuracy: 0.9682\n",
      "173/173 [==============================] - 1s 5ms/step - loss: 0.1304 - accuracy: 0.9570\n"
     ]
    },
    {
     "data": {
      "text/plain": [
       "([0.09157044440507889, 0.9681574702262878],\n",
       " [0.13042955100536346, 0.9570028781890869])"
      ]
     },
     "execution_count": 12,
     "metadata": {},
     "output_type": "execute_result"
    }
   ],
   "source": [
    "nn_model_2 = keras.models.load_model(\"models/nn_model_2.h5\")\n",
    "nn_model_2.evaluate(X_train, y_train), nn_model_2.evaluate(X_test, y_test)"
   ]
  },
  {
   "cell_type": "code",
   "execution_count": 13,
   "metadata": {},
   "outputs": [
    {
     "name": "stdout",
     "output_type": "stream",
     "text": [
      "173/173 [==============================] - 1s 4ms/step\n",
      "173/173 [==============================] - 1s 3ms/step\n"
     ]
    }
   ],
   "source": [
    "y_pred_1 = nn_model_1.predict(X_test)\n",
    "y_pred_1 = np.round(y_pred_1)\n",
    "\n",
    "y_pred_2 = nn_model_2.predict(X_test)\n",
    "y_pred_2 = np.round(y_pred_2)"
   ]
  },
  {
   "cell_type": "code",
   "execution_count": 14,
   "metadata": {},
   "outputs": [],
   "source": [
    "from sklearn.metrics import precision_score, recall_score, accuracy_score, f1_score"
   ]
  },
  {
   "cell_type": "code",
   "execution_count": 15,
   "metadata": {},
   "outputs": [
    {
     "data": {
      "text/plain": [
       "([0.9542815674891146, 0.9541984732824427],\n",
       " [0.9704251386321626, 0.9385055416517698])"
      ]
     },
     "execution_count": 15,
     "metadata": {},
     "output_type": "execute_result"
    }
   ],
   "source": [
    "[accuracy_score(y_test, y_pred_1), f1_score(y_test, y_pred_1)], [precision_score(y_test, y_pred_1), recall_score(y_test, y_pred_1)]"
   ]
  },
  {
   "cell_type": "code",
   "execution_count": 16,
   "metadata": {},
   "outputs": [
    {
     "data": {
      "text/plain": [
       "([0.9570029027576198, 0.956633119853614],\n",
       " [0.97976011994003, 0.9345727565248481])"
      ]
     },
     "execution_count": 16,
     "metadata": {},
     "output_type": "execute_result"
    }
   ],
   "source": [
    "[accuracy_score(y_test, y_pred_2), f1_score(y_test, y_pred_2)], [precision_score(y_test, y_pred_2), recall_score(y_test, y_pred_2)]"
   ]
  },
  {
   "cell_type": "code",
   "execution_count": null,
   "metadata": {},
   "outputs": [],
   "source": [
    "nn_model_2.save(\"models/best_nn_model.h5\")"
   ]
  }
 ],
 "metadata": {
  "kernelspec": {
   "display_name": "Python 3.9.7 ('base')",
   "language": "python",
   "name": "python3"
  },
  "language_info": {
   "codemirror_mode": {
    "name": "ipython",
    "version": 3
   },
   "file_extension": ".py",
   "mimetype": "text/x-python",
   "name": "python",
   "nbconvert_exporter": "python",
   "pygments_lexer": "ipython3",
   "version": "3.9.7"
  },
  "orig_nbformat": 4,
  "vscode": {
   "interpreter": {
    "hash": "d6fbddb6984aa66203b7d586308fc5f4c061740ab0e74dcb7f151efc67e07916"
   }
  }
 },
 "nbformat": 4,
 "nbformat_minor": 2
}
