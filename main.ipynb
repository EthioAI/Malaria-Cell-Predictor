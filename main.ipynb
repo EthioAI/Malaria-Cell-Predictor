{
 "cells": [
  {
   "cell_type": "code",
   "execution_count": null,
   "metadata": {},
   "outputs": [],
   "source": []
  }
 ],
 "metadata": {
  "kernelspec": {
   "display_name": "Python 3.10.4 64-bit",
   "language": "python",
   "name": "python3"
  },
  "language_info": {
   "name": "python",
   "version": "3.10.4"
  },
  "orig_nbformat": 4,
  "vscode": {
   "interpreter": {
    "hash": "6473e21e1bbc68aecd3ca3cae546bb8c2c13eccd41260f56fe78735a557e69da"
   }
  }
 },
 "nbformat": 4,
 "nbformat_minor": 2
}
