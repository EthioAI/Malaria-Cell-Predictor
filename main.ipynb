{
 "cells": [
  {
   "cell_type": "code",
   "execution_count": 1,
   "metadata": {},
   "outputs": [],
   "source": [
    "import os\n",
    "import numpy as np\n",
    "import matplotlib as mpl\n",
    "import matplotlib.pyplot as plt\n",
    "import pandas as pd\n",
    "import seaborn as sns\n",
    "import cv2\n",
    "import importlib\n",
    "import attrs\n",
    "\n",
    "from sklearn.model_selection import train_test_split\n",
    "from sklearn.metrics import confusion_matrix\n",
    "from sklearn.model_selection import cross_val_score\n",
    "from sklearn.pipeline import Pipeline"
   ]
  },
  {
   "cell_type": "code",
   "execution_count": 2,
   "metadata": {},
   "outputs": [],
   "source": [
    "%matplotlib inline"
   ]
  },
  {
   "cell_type": "code",
   "execution_count": 3,
   "metadata": {},
   "outputs": [],
   "source": [
    "X, y = attrs.dataset_loader()"
   ]
  },
  {
   "cell_type": "code",
   "execution_count": 4,
   "metadata": {},
   "outputs": [
    {
     "data": {
      "text/plain": [
       "(27558, 50, 50, 3)"
      ]
     },
     "execution_count": 4,
     "metadata": {},
     "output_type": "execute_result"
    }
   ],
   "source": [
    "X.shape"
   ]
  },
  {
   "cell_type": "code",
   "execution_count": 5,
   "metadata": {},
   "outputs": [
    {
     "data": {
      "text/plain": [
       "Text(0.5, 1.0, 'Parasitized')"
      ]
     },
     "execution_count": 5,
     "metadata": {},
     "output_type": "execute_result"
    },
    {
     "data": {
      "image/png": "[encoded data removed]",
      "text/plain": [
       "<Figure size 432x288 with 1 Axes>"
      ]
     },
     "metadata": {
      "needs_background": "light"
     },
     "output_type": "display_data"
    }
   ],
   "source": [
    "plt.imshow(X[y == 1][0])\n",
    "plt.axis(\"off\")\n",
    "plt.title(\"Parasitized\")"
   ]
  },
  {
   "cell_type": "code",
   "execution_count": 6,
   "metadata": {},
   "outputs": [
    {
     "data": {
      "text/plain": [
       "Text(0.5, 1.0, 'Not Parasitized')"
      ]
     },
     "execution_count": 6,
     "metadata": {},
     "output_type": "execute_result"
    },
    {
     "data": {
      "image/png": "[encoded data removed]",
      "text/plain": [
       "<Figure size 432x288 with 1 Axes>"
      ]
     },
     "metadata": {
      "needs_background": "light"
     },
     "output_type": "display_data"
    }
   ],
   "source": [
    "plt.imshow(X[y == 0][0])\n",
    "plt.axis(\"off\")\n",
    "plt.title(\"Not Parasitized\")"
   ]
  },
  {
   "cell_type": "code",
   "execution_count": 7,
   "metadata": {},
   "outputs": [
    {
     "name": "stderr",
     "output_type": "stream",
     "text": [
      "e:\\Program files\\Anaconda3\\lib\\site-packages\\seaborn\\_decorators.py:36: FutureWarning: Pass the following variable as a keyword arg: x. From version 0.12, the only valid positional argument will be `data`, and passing other arguments without an explicit keyword will result in an error or misinterpretation.\n",
      "  warnings.warn(\n"
     ]
    },
    {
     "data": {
      "text/plain": [
       "<AxesSubplot:>"
      ]
     },
     "execution_count": 7,
     "metadata": {},
     "output_type": "execute_result"
    },
    {
     "data": {
      "image/png": "[encoded data removed]",
      "text/plain": [
       "<Figure size 720x576 with 1 Axes>"
      ]
     },
     "metadata": {
      "needs_background": "light"
     },
     "output_type": "display_data"
    }
   ],
   "source": [
    "unique, count = np.unique(y, return_counts=True)\n",
    "plt.figure(figsize=(10,8))\n",
    "sns.barplot(unique, y=count)"
   ]
  },
  {
   "cell_type": "code",
   "execution_count": 8,
   "metadata": {},
   "outputs": [
    {
     "name": "stdout",
     "output_type": "stream",
     "text": [
      "x_train shape:  (19290, 50, 50, 3)\n",
      "x_test shape:  (8268, 50, 50, 3)\n",
      "y_train shape:  (19290,)\n",
      "y_test shape:  (8268,)\n"
     ]
    }
   ],
   "source": [
    "X_train, X_test, y_train, y_test = train_test_split(X, y, test_size=0.3, random_state=42)\n",
    "print(\"x_train shape: \",X_train.shape)\n",
    "print(\"x_test shape: \",X_test.shape)\n",
    "print(\"y_train shape: \",y_train.shape)\n",
    "print(\"y_test shape: \",y_test.shape)"
   ]
  },
  {
   "cell_type": "markdown",
   "metadata": {},
   "source": [
    "### ML models"
   ]
  },
  {
   "cell_type": "code",
   "execution_count": null,
   "metadata": {},
   "outputs": [],
   "source": [
    "pipeline = Pipeline([\n",
    "    (\"ravel_array\", attrs.ArrayRavel())\n",
    "])\n",
    "X_train_prepared = pipeline.fit_transform(X_train)\n",
    "X_test_prepared = pipeline.fit_transform(X_test)"
   ]
  },
  {
   "cell_type": "code",
   "execution_count": null,
   "metadata": {},
   "outputs": [
    {
     "data": {
      "text/plain": [
       "RandomForestClassifier(max_leaf_nodes=24, n_estimators=500, n_jobs=-1,\n",
       "                       random_state=42)"
      ]
     },
     "execution_count": 13,
     "metadata": {},
     "output_type": "execute_result"
    }
   ],
   "source": [
    "# using random forest classifer is like using svm like this: svc_clf = SVC(C=1000, kernel=\"rbf\", gamma=0.1)\n",
    "# SVM takes a very long time to train and check for cross validation.\n",
    "from sklearn.ensemble import RandomForestClassifier\n",
    "\n",
    "rnd_clf = RandomForestClassifier(n_estimators=500, max_leaf_nodes=24, n_jobs=-1, random_state=42)\n",
    "rnd_clf.fit(X_train_prepared, y_train)"
   ]
  },
  {
   "cell_type": "code",
   "execution_count": null,
   "metadata": {},
   "outputs": [
    {
     "name": "stdout",
     "output_type": "stream",
     "text": [
      "Scores:  [0.72472784 0.72472784 0.718507   0.72706065 0.71772939 0.7192846\n",
      " 0.70917574 0.70995334 0.718507   0.7192846  0.73250389 0.718507\n",
      " 0.72939347 0.70451011 0.73172628]\n",
      "Mean:  0.7203732503888024\n",
      "Standard deviation:  0.007939190680000123\n"
     ]
    }
   ],
   "source": [
    "rnd_scores = attrs.cross_val_score(rnd_clf, X_train_prepared, y_train, n=15)\n",
    "attrs.display_cross_val_score(rnd_scores)"
   ]
  },
  {
   "cell_type": "markdown",
   "metadata": {},
   "source": [
    "- RandomForest is severly underfitting the dataset"
   ]
  },
  {
   "cell_type": "code",
   "execution_count": null,
   "metadata": {},
   "outputs": [
    {
     "data": {
      "text/plain": [
       "AdaBoostClassifier(base_estimator=DecisionTreeClassifier(max_leaf_nodes=8),\n",
       "                   learning_rate=0.5, n_estimators=500, random_state=42)"
      ]
     },
     "execution_count": 16,
     "metadata": {},
     "output_type": "execute_result"
    }
   ],
   "source": [
    "# let's try ada boosting\n",
    "from sklearn.tree import DecisionTreeClassifier\n",
    "from sklearn.ensemble import AdaBoostClassifier\n",
    "\n",
    "ada_clf = AdaBoostClassifier(DecisionTreeClassifier(max_leaf_nodes=8), n_estimators=500, algorithm=\"SAMME.R\", random_state=42, learning_rate=0.5)\n",
    "ada_clf.fit(X_train_prepared, y_train)"
   ]
  },
  {
   "cell_type": "code",
   "execution_count": null,
   "metadata": {},
   "outputs": [],
   "source": [
    "ada_scores = attrs.cross_val_score(ada_clf, X_train_prepared, y_train, n=15)\n",
    "attrs.display_cross_val_score(ada_scores)"
   ]
  },
  {
   "cell_type": "code",
   "execution_count": null,
   "metadata": {},
   "outputs": [
    {
     "data": {
      "text/plain": [
       "<module 'attrs' from 'd:\\\\Machine learning\\\\Projects\\\\Malaria Cell Predictor\\\\attrs.py'>"
      ]
     },
     "execution_count": 32,
     "metadata": {},
     "output_type": "execute_result"
    }
   ],
   "source": [
    "importlib.reload(attrs)"
   ]
  },
  {
   "cell_type": "code",
   "execution_count": null,
   "metadata": {},
   "outputs": [
    {
     "data": {
      "text/plain": [
       "Pipeline(steps=[('kmeans', KMeans(n_clusters=4)),\n",
       "                ('xgb',\n",
       "                 XGBClassifier(base_score=0.5, booster='gbtree', callbacks=None,\n",
       "                               colsample_bylevel=1, colsample_bynode=1,\n",
       "                               colsample_bytree=1, early_stopping_rounds=None,\n",
       "                               enable_categorical=False, eval_metric=None,\n",
       "                               gamma=0, gpu_id=-1, grow_policy='depthwise',\n",
       "                               importance_type=None, interaction_constraints='',\n",
       "                               learning_rate=0.300000012, max_bin=256,\n",
       "                               max_cat_to_onehot=4, max_delta_step=0,\n",
       "                               max_depth=6, max_leaves=0, min_child_weight=1,\n",
       "                               missing=nan, monotone_constraints='()',\n",
       "                               n_estimators=100, n_jobs=0, num_parallel_tree=1,\n",
       "                               predictor='auto', random_state=0, reg_alpha=0,\n",
       "                               reg_lambda=1, ...))])"
      ]
     },
     "execution_count": 76,
     "metadata": {},
     "output_type": "execute_result"
    }
   ],
   "source": [
    "import xgboost\n",
    "\n",
    "xgb_clf = xgboost.XGBClassifier()\n",
    "xgb_clf.fit(X_train_prepared, y_train)"
   ]
  },
  {
   "cell_type": "code",
   "execution_count": null,
   "metadata": {},
   "outputs": [
    {
     "name": "stdout",
     "output_type": "stream",
     "text": [
      "Scores:  [0.63685848 0.62674961 0.63763608 0.6407465  0.63374806 0.64463453\n",
      " 0.64774495 0.65163297 0.63530327 0.64852255 0.65007776 0.655521\n",
      " 0.64385692 0.64930016 0.63608087]\n",
      "Mean:  0.6425609123898394\n",
      "Standard deviation:  0.0077587504132170726\n"
     ]
    }
   ],
   "source": [
    "xgb_scores = attrs.cross_val_score(xgb_clf, X_train_prepared, y_train, n=15)\n",
    "attrs.display_cross_val_score(xgb_scores)"
   ]
  },
  {
   "cell_type": "markdown",
   "metadata": {},
   "source": [
    "### NN models"
   ]
  },
  {
   "cell_type": "code",
   "execution_count": 9,
   "metadata": {},
   "outputs": [],
   "source": [
    "import tensorflow as tf\n",
    "from tensorflow import keras"
   ]
  },
  {
   "cell_type": "code",
   "execution_count": 10,
   "metadata": {},
   "outputs": [],
   "source": [
    "root_logdir = os.path.join(os.curdir, \"logs\")\n",
    "\n",
    "for gpu in tf.config.list_physical_devices(\"GPU\"):\n",
    "    tf.config.experimental.set_memory_growth(gpu, True)\n",
    "\n",
    "def get_run_logdir(name=None):\n",
    "    import time\n",
    "    run_id = time.strftime(\"run_%Y_%m_%d-%H_%M_%S\") + f\"- {name}\"\n",
    "    return os.path.join(root_logdir, run_id)"
   ]
  },
  {
   "cell_type": "code",
   "execution_count": 11,
   "metadata": {},
   "outputs": [],
   "source": [
    "X_train_prepared, X_valid_prepared, y_train_prepared, y_valid_prepared = train_test_split(X_train, y_train, test_size=0.2, random_state=42)"
   ]
  },
  {
   "cell_type": "code",
   "execution_count": 12,
   "metadata": {},
   "outputs": [
    {
     "data": {
      "text/plain": [
       "(15432, 50, 50, 3)"
      ]
     },
     "execution_count": 12,
     "metadata": {},
     "output_type": "execute_result"
    }
   ],
   "source": [
    "X_train_prepared.shape"
   ]
  },
  {
   "cell_type": "code",
   "execution_count": 13,
   "metadata": {},
   "outputs": [],
   "source": [
    "import keras.backend as K\n",
    "\n",
    "def f1_score(y_true, y_pred): #taken from old keras source code\n",
    "    true_positives = K.sum(K.round(K.clip(y_true * y_pred, 0, 1)))\n",
    "    possible_positives = K.sum(K.round(K.clip(y_true, 0, 1)))\n",
    "    predicted_positives = K.sum(K.round(K.clip(y_pred, 0, 1)))\n",
    "    precision = true_positives / (predicted_positives + K.epsilon())\n",
    "    recall = true_positives / (possible_positives + K.epsilon())\n",
    "    f1_val = 2*(precision*recall)/(precision+recall+K.epsilon())\n",
    "    return f1_val"
   ]
  },
  {
   "cell_type": "markdown",
   "metadata": {},
   "source": [
    "### Model 1"
   ]
  },
  {
   "cell_type": "code",
   "execution_count": 14,
   "metadata": {},
   "outputs": [],
   "source": [
    "nn_model = keras.Sequential()\n",
    "nn_model.add(keras.layers.Conv2D(16,(3,3),activation='relu',input_shape=(50,50,3)))\n",
    "nn_model.add(keras.layers.MaxPool2D(2))\n",
    "nn_model.add(keras.layers.Dropout(0.2))\n",
    "\n",
    "nn_model.add(keras.layers.Conv2D(32,(3,3),activation='relu'))\n",
    "nn_model.add(keras.layers.MaxPool2D(2,2))\n",
    "nn_model.add(keras.layers.Dropout(0.3))\n",
    "\n",
    "nn_model.add(keras.layers.Conv2D(64,(3,3),activation='relu'))\n",
    "nn_model.add(keras.layers.MaxPool2D(2,2))\n",
    "nn_model.add(keras.layers.Dropout(0.3))\n",
    "\n",
    "nn_model.add(keras.layers.Flatten())\n",
    "nn_model.add(keras.layers.Dense(64,activation='relu'))\n",
    "nn_model.add(keras.layers.Dropout(0.5))\n",
    "\n",
    "nn_model.add(keras.layers.Dense(1,activation='sigmoid'))"
   ]
  },
  {
   "cell_type": "code",
   "execution_count": 15,
   "metadata": {},
   "outputs": [],
   "source": [
    "checkpoint_cb = keras.callbacks.ModelCheckpoint(\"models/nn_model_1.h5\", save_best_only=True)\n",
    "tensorboard_cb = keras.callbacks.TensorBoard(get_run_logdir(\"nn_model_1\"))\n",
    "\n",
    "nn_model.compile(loss=\"binary_crossentropy\", optimizer=\"adam\", metrics=[f1_score])"
   ]
  },
  {
   "cell_type": "code",
   "execution_count": 16,
   "metadata": {},
   "outputs": [
    {
     "data": {
      "text/plain": [
       "3e-05"
      ]
     },
     "execution_count": 16,
     "metadata": {},
     "output_type": "execute_result"
    }
   ],
   "source": [
    "X_train_prepared[0].size * X_train_prepared.itemsize / 10**9"
   ]
  },
  {
   "cell_type": "code",
   "execution_count": 17,
   "metadata": {},
   "outputs": [
    {
     "name": "stdout",
     "output_type": "stream",
     "text": [
      "Epoch 1/30\n",
      "483/483 [==============================] - 9s 12ms/step - loss: 0.6179 - f1_score: 0.6192 - val_loss: 0.4014 - val_f1_score: 0.8061\n",
      "Epoch 2/30\n",
      "483/483 [==============================] - 5s 9ms/step - loss: 0.2669 - f1_score: 0.8985 - val_loss: 0.1791 - val_f1_score: 0.9354\n",
      "Epoch 3/30\n",
      "483/483 [==============================] - 5s 11ms/step - loss: 0.2057 - f1_score: 0.9304 - val_loss: 0.1636 - val_f1_score: 0.9447\n",
      "Epoch 4/30\n",
      "483/483 [==============================] - 4s 9ms/step - loss: 0.1884 - f1_score: 0.9367 - val_loss: 0.1648 - val_f1_score: 0.9499\n",
      "Epoch 5/30\n",
      "483/483 [==============================] - 5s 10ms/step - loss: 0.1748 - f1_score: 0.9405 - val_loss: 0.1501 - val_f1_score: 0.9523\n",
      "Epoch 6/30\n",
      "483/483 [==============================] - 5s 10ms/step - loss: 0.1731 - f1_score: 0.9443 - val_loss: 0.1421 - val_f1_score: 0.9505\n",
      "Epoch 7/30\n",
      "483/483 [==============================] - 5s 9ms/step - loss: 0.1601 - f1_score: 0.9461 - val_loss: 0.1421 - val_f1_score: 0.9530\n",
      "Epoch 8/30\n",
      "483/483 [==============================] - 4s 9ms/step - loss: 0.1605 - f1_score: 0.9475 - val_loss: 0.1430 - val_f1_score: 0.9491\n",
      "Epoch 9/30\n",
      "483/483 [==============================] - 5s 9ms/step - loss: 0.1573 - f1_score: 0.9463 - val_loss: 0.1575 - val_f1_score: 0.9471\n",
      "Epoch 10/30\n",
      "483/483 [==============================] - 5s 11ms/step - loss: 0.1531 - f1_score: 0.9492 - val_loss: 0.1378 - val_f1_score: 0.9508\n",
      "Epoch 11/30\n",
      "483/483 [==============================] - 5s 10ms/step - loss: 0.1519 - f1_score: 0.9494 - val_loss: 0.1412 - val_f1_score: 0.9510\n",
      "Epoch 12/30\n",
      "483/483 [==============================] - 5s 11ms/step - loss: 0.1472 - f1_score: 0.9517 - val_loss: 0.1398 - val_f1_score: 0.9529\n",
      "Epoch 13/30\n",
      "483/483 [==============================] - 5s 10ms/step - loss: 0.1445 - f1_score: 0.9496 - val_loss: 0.1406 - val_f1_score: 0.9510\n",
      "Epoch 14/30\n",
      "483/483 [==============================] - 5s 11ms/step - loss: 0.1435 - f1_score: 0.9510 - val_loss: 0.1344 - val_f1_score: 0.9524\n",
      "Epoch 15/30\n",
      "483/483 [==============================] - 5s 9ms/step - loss: 0.1424 - f1_score: 0.9510 - val_loss: 0.1325 - val_f1_score: 0.9538\n",
      "Epoch 16/30\n",
      "483/483 [==============================] - 4s 9ms/step - loss: 0.1423 - f1_score: 0.9530 - val_loss: 0.1353 - val_f1_score: 0.9523\n",
      "Epoch 17/30\n",
      "483/483 [==============================] - 5s 9ms/step - loss: 0.1376 - f1_score: 0.9522 - val_loss: 0.1335 - val_f1_score: 0.9534\n",
      "Epoch 18/30\n",
      "483/483 [==============================] - 5s 9ms/step - loss: 0.1371 - f1_score: 0.9530 - val_loss: 0.1389 - val_f1_score: 0.9527\n",
      "Epoch 19/30\n",
      "483/483 [==============================] - 4s 9ms/step - loss: 0.1345 - f1_score: 0.9525 - val_loss: 0.1413 - val_f1_score: 0.9504\n",
      "Epoch 20/30\n",
      "483/483 [==============================] - 4s 9ms/step - loss: 0.1350 - f1_score: 0.9518 - val_loss: 0.1346 - val_f1_score: 0.9548\n",
      "Epoch 21/30\n",
      "483/483 [==============================] - 4s 9ms/step - loss: 0.1310 - f1_score: 0.9530 - val_loss: 0.1362 - val_f1_score: 0.9534\n",
      "Epoch 22/30\n",
      "483/483 [==============================] - 4s 9ms/step - loss: 0.1312 - f1_score: 0.9527 - val_loss: 0.1353 - val_f1_score: 0.9522\n",
      "Epoch 23/30\n",
      "483/483 [==============================] - 4s 9ms/step - loss: 0.1302 - f1_score: 0.9543 - val_loss: 0.1382 - val_f1_score: 0.9536\n",
      "Epoch 24/30\n",
      "483/483 [==============================] - 4s 9ms/step - loss: 0.1251 - f1_score: 0.9540 - val_loss: 0.1332 - val_f1_score: 0.9522\n",
      "Epoch 25/30\n",
      "483/483 [==============================] - 4s 9ms/step - loss: 0.1281 - f1_score: 0.9541 - val_loss: 0.1407 - val_f1_score: 0.9539\n",
      "Epoch 26/30\n",
      "483/483 [==============================] - 4s 9ms/step - loss: 0.1233 - f1_score: 0.9560 - val_loss: 0.1347 - val_f1_score: 0.9533\n",
      "Epoch 27/30\n",
      "483/483 [==============================] - 4s 9ms/step - loss: 0.1253 - f1_score: 0.9551 - val_loss: 0.1469 - val_f1_score: 0.9486\n",
      "Epoch 28/30\n",
      "483/483 [==============================] - 4s 9ms/step - loss: 0.1270 - f1_score: 0.9551 - val_loss: 0.1451 - val_f1_score: 0.9535\n",
      "Epoch 29/30\n",
      "483/483 [==============================] - 5s 10ms/step - loss: 0.1236 - f1_score: 0.9559 - val_loss: 0.1299 - val_f1_score: 0.9536\n",
      "Epoch 30/30\n",
      "483/483 [==============================] - 4s 9ms/step - loss: 0.1198 - f1_score: 0.9555 - val_loss: 0.1329 - val_f1_score: 0.9550\n"
     ]
    }
   ],
   "source": [
    "history = nn_model.fit(X_train_prepared, y_train_prepared, \n",
    "                        epochs=30,\n",
    "                        validation_data=(X_valid_prepared, y_valid_prepared),\n",
    "                        callbacks=[checkpoint_cb, tensorboard_cb])"
   ]
  },
  {
   "cell_type": "code",
   "execution_count": 18,
   "metadata": {},
   "outputs": [
    {
     "data": {
      "image/png": "[encoded data removed]",
      "text/plain": [
       "<Figure size 1080x792 with 1 Axes>"
      ]
     },
     "metadata": {
      "needs_background": "light"
     },
     "output_type": "display_data"
    }
   ],
   "source": [
    "import pandas as pd\n",
    "import matplotlib.pyplot as plt\n",
    "\n",
    "pd.DataFrame(history.history).plot(figsize=(15, 11))\n",
    "plt.grid(True)\n",
    "plt.gca().set_ylim(0, 1)\n",
    "plt.show()"
   ]
  },
  {
   "cell_type": "code",
   "execution_count": 19,
   "metadata": {},
   "outputs": [
    {
     "name": "stdout",
     "output_type": "stream",
     "text": [
      "259/259 [==============================] - 1s 5ms/step - loss: 0.1413 - f1_score: 0.9527\n"
     ]
    },
    {
     "data": {
      "text/plain": [
       "[0.1412668526172638, 0.9526795744895935]"
      ]
     },
     "execution_count": 19,
     "metadata": {},
     "output_type": "execute_result"
    }
   ],
   "source": [
    "nn_model.evaluate(X_test, y_test)"
   ]
  },
  {
   "cell_type": "markdown",
   "metadata": {},
   "source": [
    "### Model 2"
   ]
  },
  {
   "cell_type": "code",
   "execution_count": 21,
   "metadata": {},
   "outputs": [],
   "source": [
    "nn_model_2 = keras.Sequential()\n",
    "nn_model_2.add(keras.layers.Conv2D(16, 7, activation='relu', padding=\"same\", input_shape=(50,50,3)))\n",
    "nn_model_2.add(keras.layers.MaxPool2D(2))\n",
    "\n",
    "nn_model_2.add(keras.layers.Conv2D(32, 3, activation='relu', padding=\"same\"))\n",
    "nn_model_2.add(keras.layers.Conv2D(32, 3, activation='relu', padding=\"same\"))\n",
    "nn_model_2.add(keras.layers.MaxPool2D(2))\n",
    "\n",
    "nn_model_2.add(keras.layers.Conv2D(64, 3, activation='relu', padding=\"same\"))\n",
    "nn_model_2.add(keras.layers.Conv2D(64, 3, activation='relu', padding=\"same\"))\n",
    "nn_model_2.add(keras.layers.MaxPool2D(2))\n",
    "\n",
    "nn_model_2.add(keras.layers.Flatten())\n",
    "nn_model_2.add(keras.layers.Dense(64, activation='relu'))\n",
    "nn_model_2.add(keras.layers.Dropout(0.5))\n",
    "\n",
    "nn_model_2.add(keras.layers.Dense(1, activation='sigmoid'))"
   ]
  },
  {
   "cell_type": "code",
   "execution_count": 22,
   "metadata": {},
   "outputs": [],
   "source": [
    "checkpoint_cb = keras.callbacks.ModelCheckpoint(\"models/nn_model_2.h5\", save_best_only=True)\n",
    "tensorboard_cb = keras.callbacks.TensorBoard(get_run_logdir(\"nn_model_2\"))\n",
    "early_stopping_cb = keras.callbacks.EarlyStopping(patience=10)\n",
    "\n",
    "nn_model_2.compile(loss=\"binary_crossentropy\", optimizer=\"adam\", metrics=[f1_score])"
   ]
  },
  {
   "cell_type": "code",
   "execution_count": 23,
   "metadata": {},
   "outputs": [
    {
     "name": "stdout",
     "output_type": "stream",
     "text": [
      "Epoch 1/60\n",
      "483/483 [==============================] - 7s 13ms/step - loss: 0.4917 - f1_score: 0.6795 - val_loss: 0.1867 - val_f1_score: 0.9292\n",
      "Epoch 2/60\n",
      "483/483 [==============================] - 6s 12ms/step - loss: 0.1658 - f1_score: 0.9451 - val_loss: 0.1420 - val_f1_score: 0.9541\n",
      "Epoch 3/60\n",
      "483/483 [==============================] - 5s 11ms/step - loss: 0.1469 - f1_score: 0.9509 - val_loss: 0.1332 - val_f1_score: 0.9552\n",
      "Epoch 4/60\n",
      "483/483 [==============================] - 5s 11ms/step - loss: 0.1367 - f1_score: 0.9523 - val_loss: 0.1361 - val_f1_score: 0.9572\n",
      "Epoch 5/60\n",
      "483/483 [==============================] - 5s 11ms/step - loss: 0.1321 - f1_score: 0.9549 - val_loss: 0.1328 - val_f1_score: 0.9545\n",
      "Epoch 6/60\n",
      "483/483 [==============================] - 6s 12ms/step - loss: 0.1267 - f1_score: 0.9559 - val_loss: 0.1308 - val_f1_score: 0.9589\n",
      "Epoch 7/60\n",
      "483/483 [==============================] - 6s 12ms/step - loss: 0.1200 - f1_score: 0.9561 - val_loss: 0.1410 - val_f1_score: 0.9528\n",
      "Epoch 8/60\n",
      "483/483 [==============================] - 5s 10ms/step - loss: 0.1214 - f1_score: 0.9561 - val_loss: 0.1253 - val_f1_score: 0.9571\n",
      "Epoch 9/60\n",
      "483/483 [==============================] - 5s 11ms/step - loss: 0.1118 - f1_score: 0.9588 - val_loss: 0.1215 - val_f1_score: 0.9578\n",
      "Epoch 10/60\n",
      "483/483 [==============================] - 6s 12ms/step - loss: 0.1031 - f1_score: 0.9622 - val_loss: 0.1274 - val_f1_score: 0.9550\n",
      "Epoch 11/60\n",
      "483/483 [==============================] - 5s 11ms/step - loss: 0.0990 - f1_score: 0.9635 - val_loss: 0.1259 - val_f1_score: 0.9582\n",
      "Epoch 12/60\n",
      "483/483 [==============================] - 5s 11ms/step - loss: 0.0912 - f1_score: 0.9645 - val_loss: 0.1438 - val_f1_score: 0.9577\n",
      "Epoch 13/60\n",
      "483/483 [==============================] - 5s 11ms/step - loss: 0.0872 - f1_score: 0.9671 - val_loss: 0.1428 - val_f1_score: 0.9566\n",
      "Epoch 14/60\n",
      "483/483 [==============================] - 5s 11ms/step - loss: 0.0816 - f1_score: 0.9675 - val_loss: 0.1358 - val_f1_score: 0.9563\n",
      "Epoch 15/60\n",
      "483/483 [==============================] - 5s 11ms/step - loss: 0.0738 - f1_score: 0.9696 - val_loss: 0.1616 - val_f1_score: 0.9575\n",
      "Epoch 16/60\n",
      "483/483 [==============================] - 5s 11ms/step - loss: 0.0680 - f1_score: 0.9734 - val_loss: 0.1605 - val_f1_score: 0.9547\n",
      "Epoch 17/60\n",
      "483/483 [==============================] - 5s 11ms/step - loss: 0.0617 - f1_score: 0.9750 - val_loss: 0.1873 - val_f1_score: 0.9554\n",
      "Epoch 18/60\n",
      "483/483 [==============================] - 5s 11ms/step - loss: 0.0550 - f1_score: 0.9785 - val_loss: 0.1636 - val_f1_score: 0.9581\n",
      "Epoch 19/60\n",
      "483/483 [==============================] - 5s 11ms/step - loss: 0.0485 - f1_score: 0.9808 - val_loss: 0.1865 - val_f1_score: 0.9540\n"
     ]
    }
   ],
   "source": [
    "history = nn_model_2.fit(X_train_prepared, y_train_prepared, \n",
    "                        epochs=60,\n",
    "                        validation_data=(X_valid_prepared, y_valid_prepared),\n",
    "                        callbacks=[checkpoint_cb, tensorboard_cb, early_stopping_cb])"
   ]
  },
  {
   "cell_type": "code",
   "execution_count": 24,
   "metadata": {},
   "outputs": [
    {
     "data": {
      "image/png": "[encoded data removed]",
      "text/plain": [
       "<Figure size 1080x792 with 1 Axes>"
      ]
     },
     "metadata": {
      "needs_background": "light"
     },
     "output_type": "display_data"
    }
   ],
   "source": [
    "import pandas as pd\n",
    "import matplotlib.pyplot as plt\n",
    "\n",
    "pd.DataFrame(history.history).plot(figsize=(15, 11))\n",
    "plt.grid(True)\n",
    "plt.gca().set_ylim(0, 1)\n",
    "plt.show()"
   ]
  },
  {
   "cell_type": "code",
   "execution_count": 25,
   "metadata": {},
   "outputs": [
    {
     "name": "stdout",
     "output_type": "stream",
     "text": [
      "259/259 [==============================] - 1s 5ms/step - loss: 0.2086 - f1_score: 0.9497\n"
     ]
    },
    {
     "data": {
      "text/plain": [
       "[0.20857392251491547, 0.949697732925415]"
      ]
     },
     "execution_count": 25,
     "metadata": {},
     "output_type": "execute_result"
    }
   ],
   "source": [
    "nn_model_2.evaluate(X_test, y_test)"
   ]
  },
  {
   "cell_type": "code",
   "execution_count": 27,
   "metadata": {},
   "outputs": [
    {
     "name": "stdout",
     "output_type": "stream",
     "text": [
      "259/259 [==============================] - 2s 5ms/step - loss: 0.1282 - f1_score: 0.9583\n"
     ]
    },
    {
     "data": {
      "text/plain": [
       "[0.12820686399936676, 0.9582731127738953]"
      ]
     },
     "execution_count": 27,
     "metadata": {},
     "output_type": "execute_result"
    }
   ],
   "source": [
    "# model 2 best\n",
    "\n",
    "nn_model_2 = keras.models.load_model(\"models/nn_model_2.h5\", custom_objects={'f1_score': f1_score})\n",
    "nn_model_2.evaluate(X_test, y_test)"
   ]
  },
  {
   "cell_type": "code",
   "execution_count": null,
   "metadata": {},
   "outputs": [],
   "source": []
  }
 ],
 "metadata": {
  "kernelspec": {
   "display_name": "Python 3.9.7 ('base')",
   "language": "python",
   "name": "python3"
  },
  "language_info": {
   "codemirror_mode": {
    "name": "ipython",
    "version": 3
   },
   "file_extension": ".py",
   "mimetype": "text/x-python",
   "name": "python",
   "nbconvert_exporter": "python",
   "pygments_lexer": "ipython3",
   "version": "3.9.7"
  },
  "orig_nbformat": 4,
  "vscode": {
   "interpreter": {
    "hash": "d6fbddb6984aa66203b7d586308fc5f4c061740ab0e74dcb7f151efc67e07916"
   }
  }
 },
 "nbformat": 4,
 "nbformat_minor": 2
}
